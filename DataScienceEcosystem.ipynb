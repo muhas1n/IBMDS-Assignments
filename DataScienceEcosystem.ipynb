{
 "cells": [
  {
   "cell_type": "markdown",
   "id": "fea8157e",
   "metadata": {},
   "source": [
    "# **Data Science Tools and Ecosystem**"
   ]
  },
  {
   "cell_type": "markdown",
   "id": "56165616",
   "metadata": {},
   "source": [
    "### *In this notebook, Data Science Tools and Ecosystem are summarized.*"
   ]
  },
  {
   "cell_type": "markdown",
   "id": "cfaee011",
   "metadata": {},
   "source": [
    "##### Some of the popular languages that Data Scientists use are:\n",
    "1. *Python*\n",
    "2. *R*\n",
    "3. *SQL*\n",
    "4. *Java*\n",
    "5. *Julia*\n",
    "6. *Scala*\n",
    "7. *C/C++*\n",
    "8. *JavaScript*\n"
   ]
  },
  {
   "cell_type": "markdown",
   "id": "5cd02a96",
   "metadata": {},
   "source": [
    "##### Some of the commonly used libraries used by Data Scientists include:\n",
    "1. *Pandas*\n",
    "2. *TensorFlow*\n",
    "3. *Matplotlib*\n",
    "4. *Numpy*\n",
    "5. *Scikit-learn*\n",
    "6. *Scipy*\n",
    "7. *PyTorch*\n",
    "8. *Keras*\n",
    "9. *Seaborn*\n",
    "10. *MATLAB*\n",
    "11. *Ggplot2*\n",
    "12. *Dplyr*\n"
   ]
  },
  {
   "cell_type": "markdown",
   "id": "289c7312",
   "metadata": {},
   "source": [
    "| **Data Science Tools**|\n",
    "|-----------------------|\n",
    "|*Apache Spark*|\n",
    "|*Jupyter Notebook*|\n",
    "|*R Studio*|"
   ]
  },
  {
   "cell_type": "markdown",
   "id": "09ef0b42",
   "metadata": {},
   "source": [
    "### Below are a few examples of evaluating arithmetic expressions in Python "
   ]
  },
  {
   "cell_type": "code",
   "execution_count": 13,
   "id": "e56033f9",
   "metadata": {
    "scrolled": true
   },
   "outputs": [
    {
     "data": {
      "text/plain": [
       "17"
      ]
     },
     "execution_count": 13,
     "metadata": {},
     "output_type": "execute_result"
    }
   ],
   "source": [
    "# This a simple arithmetic expression to mutiply then add integers.\n",
    "(3*4)+5"
   ]
  },
  {
   "cell_type": "code",
   "execution_count": 14,
   "id": "978fb51d",
   "metadata": {},
   "outputs": [
    {
     "data": {
      "text/plain": [
       "3.3333333333333335"
      ]
     },
     "execution_count": 14,
     "metadata": {},
     "output_type": "execute_result"
    }
   ],
   "source": [
    "# This will convert 200 minutes to hours by diving by 60.\n",
    "200/60"
   ]
  },
  {
   "cell_type": "markdown",
   "id": "5457caff",
   "metadata": {},
   "source": [
    "**Objectives:**\n",
    "- Create a Jupyter Notebook\n",
    "- Create markdown cell with title of the notebook\n",
    "- Create a markdown cell for an introduction\n",
    "- Create a markdown cell to list data science languages\n",
    "- Create a markdown cell to list data science libraries"
   ]
  },
  {
   "cell_type": "markdown",
   "id": "d809212c",
   "metadata": {},
   "source": [
    "## Author\n",
    "Muhasin"
   ]
  }
 ],
 "metadata": {
  "kernelspec": {
   "display_name": "Python 3 (ipykernel)",
   "language": "python",
   "name": "python3"
  },
  "language_info": {
   "codemirror_mode": {
    "name": "ipython",
    "version": 3
   },
   "file_extension": ".py",
   "mimetype": "text/x-python",
   "name": "python",
   "nbconvert_exporter": "python",
   "pygments_lexer": "ipython3",
   "version": "3.10.9"
  }
 },
 "nbformat": 4,
 "nbformat_minor": 5
}
